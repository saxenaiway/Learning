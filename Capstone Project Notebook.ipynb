{
 "cells": [
  {
   "cell_type": "code",
   "execution_count": 1,
   "id": "7371ebd3-794c-439d-99ba-d7a985f34c3f",
   "metadata": {},
   "outputs": [],
   "source": [
    "# Import the required Libraries\n",
    "\n",
    "import pandas as pd\n",
    "import numpy as np"
   ]
  },
  {
   "cell_type": "code",
   "execution_count": 3,
   "id": "2a19b364-5554-46a7-a2d4-cf90a3af7f28",
   "metadata": {},
   "outputs": [
    {
     "name": "stdout",
     "output_type": "stream",
     "text": [
      "Hello Capstone Project Course!\n",
      "Ajay Saxena\n"
     ]
    }
   ],
   "source": [
    "print(\"Hello Capstone Project Course!\" + '\\n' +'Ajay Saxena')"
   ]
  },
  {
   "cell_type": "code",
   "execution_count": null,
   "id": "3cf8106d-46ee-4219-991b-56b80b9b4653",
   "metadata": {},
   "outputs": [],
   "source": []
  }
 ],
 "metadata": {
  "kernelspec": {
   "display_name": "Python 3",
   "language": "python",
   "name": "python3"
  },
  "language_info": {
   "codemirror_mode": {
    "name": "ipython",
    "version": 3
   },
   "file_extension": ".py",
   "mimetype": "text/x-python",
   "name": "python",
   "nbconvert_exporter": "python",
   "pygments_lexer": "ipython3",
   "version": "3.8.8"
  }
 },
 "nbformat": 4,
 "nbformat_minor": 5
}
